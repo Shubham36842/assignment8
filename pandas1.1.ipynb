{
 "cells": [
  {
   "cell_type": "raw",
   "id": "c0a34fe5-248c-483f-899b-0b88a4319737",
   "metadata": {},
   "source": [
    "Q1. Create a Pandas Series that contains the following data: 4, 8, 15, 16, 23, and 42. Then, print the series.\n"
   ]
  },
  {
   "cell_type": "code",
   "execution_count": 2,
   "id": "e90e00b1-0816-4863-be6d-2342a7a23b9e",
   "metadata": {},
   "outputs": [
    {
     "name": "stdout",
     "output_type": "stream",
     "text": [
      "0     4\n",
      "1     8\n",
      "2    15\n",
      "3    16\n",
      "4    23\n",
      "5    42\n",
      "dtype: int64\n"
     ]
    }
   ],
   "source": [
    "import pandas as pd\n",
    "s1=pd.Series([4,8,15,16,23,42])\n",
    "print(s1)"
   ]
  },
  {
   "cell_type": "raw",
   "id": "717e6ba2-d3e1-45f9-81f5-51a38ca78ca5",
   "metadata": {},
   "source": [
    "Q2. Create a variable of list type containing 10 elements in it, and apply pandas.Series function on the variable print it.\n"
   ]
  },
  {
   "cell_type": "code",
   "execution_count": 5,
   "id": "c75bfd97-c917-46d8-b241-4704f84d7759",
   "metadata": {},
   "outputs": [
    {
     "name": "stdout",
     "output_type": "stream",
     "text": [
      "0     10\n",
      "1     11\n",
      "2     12\n",
      "3     13\n",
      "4     14\n",
      "5     15\n",
      "6     16\n",
      "7     17\n",
      "8     18\n",
      "9     19\n",
      "10    20\n",
      "dtype: int64\n"
     ]
    }
   ],
   "source": [
    "ls=[x for x in range(10,21)]\n",
    "print(pd.Series(ls))"
   ]
  },
  {
   "cell_type": "raw",
   "id": "cc62448b-9863-4c07-a47d-a86dd0fdb7e9",
   "metadata": {},
   "source": [
    "Q3. Create a Pandas DataFrame that contains the following data:\n",
    "Name      Age       Gender\n",
    "Alice     25        Female\n",
    "Bob       30        Male\n",
    "Claire    27        Female"
   ]
  },
  {
   "cell_type": "code",
   "execution_count": 8,
   "id": "8613240e-f3de-469e-ae66-dda6a69844dd",
   "metadata": {},
   "outputs": [
    {
     "name": "stdout",
     "output_type": "stream",
     "text": [
      "     Name  Age  Gender\n",
      "0   Alice   25  Female\n",
      "1     Bob   30    Male\n",
      "2  Claire   27  Female\n"
     ]
    }
   ],
   "source": [
    "data=[['Alice',25,'Female'],['Bob',30,'Male'],['Claire',27,'Female']]\n",
    "clm=['Name','Age','Gender']\n",
    "df=pd.DataFrame(data,columns=clm)\n",
    "print(df)"
   ]
  },
  {
   "cell_type": "raw",
   "id": "c995595c-2757-42b9-a040-5b29beb48c97",
   "metadata": {},
   "source": [
    "Q4. What is ‘DataFrame’ in pandas and how is it different from pandas.series? Explain with an example.\n"
   ]
  },
  {
   "cell_type": "raw",
   "id": "df4a9715-1038-4dd1-ac9e-ef5f129c0794",
   "metadata": {},
   "source": [
    "Ans:-Pandas DataFrame is two-dimensional size-mutable, potentially heterogeneous tabular data      structure with labeled axes (rows and columns). A Data frame is a two-dimensional data        structure, i.e., data is aligned in a tabular fashion in rows and columns.\n",
    "\n",
    "     Differnces\n",
    "     1)Series are 1-D, whereas Dataframe are 2-D. \n",
    "     2)Series consists of homogeneous data, whereas dataframe consists of heterogeneous data. "
   ]
  },
  {
   "cell_type": "code",
   "execution_count": 9,
   "id": "11a20668-8005-49c9-875d-ca2e8c3d943b",
   "metadata": {},
   "outputs": [
    {
     "name": "stdout",
     "output_type": "stream",
     "text": [
      "<class 'pandas.core.frame.DataFrame'>\n",
      "     Name  Age  Gender\n",
      "0   Alice   25  Female\n",
      "1     Bob   30    Male\n",
      "2  Claire   27  Female\n"
     ]
    }
   ],
   "source": [
    "data=[['Alice',25,'Female'],['Bob',30,'Male'],['Claire',27,'Female']]\n",
    "clm=['Name','Age','Gender']\n",
    "df=pd.DataFrame(data,columns=clm)\n",
    "print(type(df))\n",
    "print(df)\n"
   ]
  },
  {
   "cell_type": "code",
   "execution_count": 14,
   "id": "437cad47-fd03-4301-8e11-9b69e540dd3b",
   "metadata": {},
   "outputs": [
    {
     "name": "stdout",
     "output_type": "stream",
     "text": [
      "<class 'pandas.core.series.Series'>\n",
      "0     Alice\n",
      "1       Bob\n",
      "2    Claire\n",
      "Name: Name, dtype: object\n"
     ]
    }
   ],
   "source": [
    "data=[['Alice',25,'Female'],['Bob',30,'Male'],['Claire',27,'Female']]\n",
    "clm=['Name','Age','Gender']\n",
    "df=pd.DataFrame(data,columns=clm)\n",
    "sr=df['Name']\n",
    "print(type(sr))\n",
    "print(sr)"
   ]
  },
  {
   "cell_type": "raw",
   "id": "53d56a95-952a-4362-9117-afcc1122f62e",
   "metadata": {},
   "source": [
    "Q5. What are some common functions you can use to manipulate data in a Pandas DataFrame? Can\n",
    "you give an example of when you might use one of these functions?\n"
   ]
  },
  {
   "cell_type": "raw",
   "id": "8013b763-6594-448a-800f-a4b207219215",
   "metadata": {},
   "source": [
    "1.read_csv()-read a csv file .\n",
    "2.read_excel()-read a excle file.\n",
    "3.to_csv()- save a file(dataframe) in csv format\n",
    "4.to_excel()-save a dataframe in excel format\n",
    "5.head()-get top 5 row data of datafram\n",
    "6.tail()-get bottom 5 row data of dataframe.\n",
    "7.describe()-used for calculating some statistical data like percentile, mean and std of the              numerical values of the Series or DataFrame.\n",
    "8.Info()-prints information about the DataFrame. The information contains the number of                columns, column labels, column data types, memory usage, range index, and the number          of cells in each column \n",
    "9.Drop()- removes the specified row or column.\n",
    "10.Shape()-enables us to obtain the shape of a DataFrame. For example, if a DataFrame has a              shape of (80, 10) , this implies that the DataFrame is made up of 80 rows and 10              columns of data.\n",
    "11.columns()-give the list of colunms in dataframe\n",
    "12.dtypes()-give the datatype of colmns of dataframe"
   ]
  },
  {
   "cell_type": "raw",
   "id": "30944d9e-baef-4b7a-8d92-860637a78f30",
   "metadata": {},
   "source": [
    "Q6. Which of the following is mutable in nature Series, DataFrame, Panel?\n"
   ]
  },
  {
   "cell_type": "raw",
   "id": "7dc67d36-e2db-4782-a54b-8118d402be7f",
   "metadata": {},
   "source": [
    "Ans-\n",
    "series- one dimensional- immutable\n",
    "dataframe- two dimensional-mutable\n",
    "panel- three dimensional-mutable"
   ]
  },
  {
   "cell_type": "raw",
   "id": "d7f576c7-e468-43ce-a819-44b67c18c570",
   "metadata": {},
   "source": [
    "Q7. Create a DataFrame using multiple Series. Explain with an example."
   ]
  },
  {
   "cell_type": "code",
   "execution_count": 15,
   "id": "609acf72-cbcd-4e47-ab59-7bef8ced07b4",
   "metadata": {},
   "outputs": [
    {
     "name": "stdout",
     "output_type": "stream",
     "text": [
      "     Author  Article\n",
      "0  Jitender      210\n",
      "1   Purnima      211\n",
      "2     Arpit      114\n",
      "3     Jyoti      178\n"
     ]
    }
   ],
   "source": [
    "import pandas as pd\n",
    "\n",
    "# Creating two lists\n",
    "author = ['Jitender', 'Purnima',\n",
    "\t\t'Arpit', 'Jyoti']\n",
    "article = [210, 211, 114, 178]\n",
    "\n",
    "# Creating two Series by passing lists\n",
    "auth_series = pd.Series(author)\n",
    "article_series = pd.Series(article)\n",
    "\n",
    "# Creating a dictionary by passing Series objects as values\n",
    "frame = {'Author': auth_series,\n",
    "\t\t'Article': article_series}\n",
    "\n",
    "# Creating DataFrame by passing Dictionary\n",
    "result = pd.DataFrame(frame)\n",
    "\n",
    "# Printing elements of Dataframe\n",
    "print(result)\n"
   ]
  },
  {
   "cell_type": "code",
   "execution_count": null,
   "id": "db675fa6-05a9-4c90-a3ae-3d16c69c43a4",
   "metadata": {},
   "outputs": [],
   "source": []
  }
 ],
 "metadata": {
  "kernelspec": {
   "display_name": "Python 3 (ipykernel)",
   "language": "python",
   "name": "python3"
  },
  "language_info": {
   "codemirror_mode": {
    "name": "ipython",
    "version": 3
   },
   "file_extension": ".py",
   "mimetype": "text/x-python",
   "name": "python",
   "nbconvert_exporter": "python",
   "pygments_lexer": "ipython3",
   "version": "3.10.8"
  }
 },
 "nbformat": 4,
 "nbformat_minor": 5
}
